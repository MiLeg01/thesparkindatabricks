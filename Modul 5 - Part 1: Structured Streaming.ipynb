{
 "cells": [
  {
   "cell_type": "markdown",
   "metadata": {
    "application/vnd.databricks.v1+cell": {
     "cellMetadata": {},
     "inputWidgets": {},
     "nuid": "c67079a6-92bc-456f-bf6b-1c5f9f018c7e",
     "showTitle": false,
     "tableResultSettingsMap": {},
     "title": ""
    }
   },
   "source": [
    "#Modul 5 - Part 1: Structured Streaming"
   ]
  },
  {
   "cell_type": "markdown",
   "metadata": {
    "application/vnd.databricks.v1+cell": {
     "cellMetadata": {},
     "inputWidgets": {},
     "nuid": "d5d7cdaa-a73b-4357-855a-4e8cc530e52d",
     "showTitle": false,
     "tableResultSettingsMap": {},
     "title": ""
    }
   },
   "source": [
    "##5.1. Setup und Dataset laden"
   ]
  },
  {
   "cell_type": "code",
   "execution_count": 0,
   "metadata": {
    "application/vnd.databricks.v1+cell": {
     "cellMetadata": {
      "byteLimit": 2048000,
      "rowLimit": 10000
     },
     "inputWidgets": {},
     "nuid": "ff693658-b407-4bc2-abe8-bd940f319add",
     "showTitle": false,
     "tableResultSettingsMap": {},
     "title": ""
    }
   },
   "outputs": [],
   "source": [
    "%run \"./Helper/_config\""
   ]
  },
  {
   "cell_type": "code",
   "execution_count": 0,
   "metadata": {
    "application/vnd.databricks.v1+cell": {
     "cellMetadata": {
      "byteLimit": 2048000,
      "rowLimit": 10000
     },
     "inputWidgets": {},
     "nuid": "00189ad0-33fe-4783-b405-b9384037bc5e",
     "showTitle": false,
     "tableResultSettingsMap": {},
     "title": ""
    }
   },
   "outputs": [],
   "source": [
    "STREAMING_INPUT_FOLDER = f\"/Volumes/{CATALOG}/{SCHEMA}/taxi_volume/jsonfolder\"\n",
    "\n",
    "spark.sql(f\"DROP VOLUME {CATALOG}.{SCHEMA}.taxi_streaming_output;\")\n",
    "spark.sql(f\"CREATE VOLUME IF NOT EXISTS {CATALOG}.{SCHEMA}.taxi_streaming_output;\")\n",
    "\n",
    "STREAMING_OUTPUT_VOLUME = f\"/Volumes/{CATALOG}/{SCHEMA}/taxi_streaming_output\"\n",
    "\n",
    "print(STREAMING_OUTPUT_VOLUME)\n",
    "\n",
    "dbutils.fs.mkdirs(f\"{STREAMING_OUTPUT_VOLUME}/streamingdata\")\n",
    "dbutils.fs.mkdirs(f\"{STREAMING_OUTPUT_VOLUME}/checkpointdir\")\n",
    "\n",
    "STREAMING_OUTPUT_FOLDER = f\"{STREAMING_OUTPUT_VOLUME}/streamingdata\"\n",
    "STREAMING_CHECKPOINT = f\"{STREAMING_OUTPUT_VOLUME}/checkpointdir\"\n"
   ]
  },
  {
   "cell_type": "markdown",
   "metadata": {
    "application/vnd.databricks.v1+cell": {
     "cellMetadata": {},
     "inputWidgets": {},
     "nuid": "996092e0-33ac-4df9-9d41-d8eefe3092b4",
     "showTitle": false,
     "tableResultSettingsMap": {},
     "title": ""
    }
   },
   "source": [
    "## 5.2. Streaming Quelle erzeugen"
   ]
  },
  {
   "cell_type": "markdown",
   "metadata": {
    "application/vnd.databricks.v1+cell": {
     "cellMetadata": {},
     "inputWidgets": {},
     "nuid": "fd1b0565-84f5-417f-8186-82beb4a9bdb1",
     "showTitle": false,
     "tableResultSettingsMap": {},
     "title": ""
    }
   },
   "source": [
    "Gehe zu Notebook Helper/Modul 5 - Streaming Input"
   ]
  },
  {
   "cell_type": "markdown",
   "metadata": {
    "application/vnd.databricks.v1+cell": {
     "cellMetadata": {},
     "inputWidgets": {},
     "nuid": "7eee9d94-b3f7-43be-84e6-bdac939f6c1e",
     "showTitle": false,
     "tableResultSettingsMap": {},
     "title": ""
    }
   },
   "source": [
    "##5.3. Stream einlesen"
   ]
  },
  {
   "cell_type": "code",
   "execution_count": 0,
   "metadata": {
    "application/vnd.databricks.v1+cell": {
     "cellMetadata": {
      "byteLimit": 2048000,
      "rowLimit": 10000
     },
     "inputWidgets": {},
     "nuid": "c284abca-71ea-4311-b9fd-6ddf3d91e4d5",
     "showTitle": false,
     "tableResultSettingsMap": {},
     "title": ""
    }
   },
   "outputs": [],
   "source": [
    "from pyspark.sql.types import StructType, StructField, StringType, IntegerType, DoubleType\n",
    "\n",
    "# Define schema (important for streaming)\n",
    "schema = StructType([\n",
    "    StructField(\"ride_id\", StringType(), True),\n",
    "    StructField(\"taxi_id\", StringType(), True),\n",
    "    StructField(\"passenger_count\", IntegerType(), True),\n",
    "    StructField(\"trip_distance\", DoubleType(), True),\n",
    "    StructField(\"fare_amount\", DoubleType(), True),\n",
    "    StructField(\"pickup_datetime\", StringType(), True),\n",
    "    StructField(\"dropoff_datetime\", StringType(), True)\n",
    "])\n",
    "\n",
    "# Create streaming DataFrame\n",
    "df_stream = spark.readStream \\\n",
    "    .schema(schema) \\\n",
    "    .json(STREAMING_INPUT_FOLDER)\n"
   ]
  },
  {
   "cell_type": "code",
   "execution_count": 0,
   "metadata": {
    "application/vnd.databricks.v1+cell": {
     "cellMetadata": {
      "byteLimit": 2048000,
      "rowLimit": 10000
     },
     "inputWidgets": {},
     "nuid": "e68ba196-298b-4757-9b86-6c5c0391698a",
     "showTitle": false,
     "tableResultSettingsMap": {},
     "title": ""
    }
   },
   "outputs": [],
   "source": [
    "\"\"\" table version\n",
    "streaming_df = (\n",
    "    spark.readStream\n",
    "         .table(input_path)\n",
    ")\n",
    "\"\"\""
   ]
  },
  {
   "cell_type": "markdown",
   "metadata": {
    "application/vnd.databricks.v1+cell": {
     "cellMetadata": {},
     "inputWidgets": {},
     "nuid": "bbe6c54d-4a04-430c-aca8-a1b2aa743a99",
     "showTitle": false,
     "tableResultSettingsMap": {},
     "title": ""
    }
   },
   "source": [
    "## 5.4. Stream verarbeiten durch Logik"
   ]
  },
  {
   "cell_type": "code",
   "execution_count": 0,
   "metadata": {
    "application/vnd.databricks.v1+cell": {
     "cellMetadata": {
      "byteLimit": 2048000,
      "rowLimit": 10000
     },
     "inputWidgets": {},
     "nuid": "05779066-ae56-4b2c-961b-826628d16c05",
     "showTitle": false,
     "tableResultSettingsMap": {},
     "title": ""
    }
   },
   "outputs": [],
   "source": [
    "from pyspark.sql.functions import avg, count\n",
    "\n",
    "agg_df = (\n",
    "    df_stream\n",
    "        .groupBy(\"passenger_count\")\n",
    "        .agg(\n",
    "            count(\"*\").alias(\"trip_count\"),\n",
    "            avg(\"fare_amount\").alias(\"avg_fare\")\n",
    "        )\n",
    ")\n"
   ]
  },
  {
   "cell_type": "markdown",
   "metadata": {
    "application/vnd.databricks.v1+cell": {
     "cellMetadata": {},
     "inputWidgets": {},
     "nuid": "4da97b09-7f74-467d-9c3a-4c947638671a",
     "showTitle": false,
     "tableResultSettingsMap": {},
     "title": ""
    }
   },
   "source": [
    "##5.5. Stream schreiben in Zieltabelle "
   ]
  },
  {
   "cell_type": "code",
   "execution_count": 0,
   "metadata": {
    "application/vnd.databricks.v1+cell": {
     "cellMetadata": {
      "byteLimit": 2048000,
      "rowLimit": 10000
     },
     "inputWidgets": {},
     "nuid": "b1a04bbe-e767-46d3-9110-513e33e5d8a9",
     "showTitle": false,
     "tableResultSettingsMap": {},
     "title": ""
    }
   },
   "outputs": [],
   "source": [
    "query = (\n",
    "    agg_df.writeStream\n",
    "         .queryName(\"stream_demo\")   \n",
    "         .outputMode(\"complete\")              # replace results on each trigger\n",
    "         .option(\"checkpointLocation\", STREAMING_CHECKPOINT)\n",
    "         .format(\"delta\")\n",
    "         .trigger(availableNow=True)\n",
    "         .start(STREAMING_OUTPUT_FOLDER)\n",
    ")\n"
   ]
  },
  {
   "cell_type": "code",
   "execution_count": 0,
   "metadata": {
    "application/vnd.databricks.v1+cell": {
     "cellMetadata": {
      "byteLimit": 2048000,
      "implicitDf": true,
      "rowLimit": 10000
     },
     "inputWidgets": {},
     "nuid": "9220078a-36bf-4adf-b355-0a08f2af078c",
     "showTitle": false,
     "tableResultSettingsMap": {},
     "title": ""
    }
   },
   "outputs": [],
   "source": [
    "%sql\n",
    "SELECT * \n",
    "FROM delta.`/Volumes/workspace/default/taxi_streaming_output/streamingdata`"
   ]
  }
 ],
 "metadata": {
  "application/vnd.databricks.v1+notebook": {
   "computePreferences": {
    "hardware": {
     "accelerator": null,
     "gpuPoolId": null,
     "memory": null
    }
   },
   "dashboards": [],
   "environmentMetadata": {
    "base_environment": "",
    "environment_version": "2"
   },
   "inputWidgetPreferences": null,
   "language": "python",
   "notebookMetadata": {
    "mostRecentlyExecutedCommandWithImplicitDF": {
     "commandId": 6291607854335518,
     "dataframes": [
      "_sqldf"
     ]
    },
    "pythonIndentUnit": 4
   },
   "notebookName": "Modul 5 - Part 1: Structured Streaming",
   "widgets": {}
  },
  "language_info": {
   "name": "python"
  }
 },
 "nbformat": 4,
 "nbformat_minor": 0
}

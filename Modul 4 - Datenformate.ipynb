{
 "cells": [
  {
   "cell_type": "markdown",
   "metadata": {
    "application/vnd.databricks.v1+cell": {
     "cellMetadata": {},
     "inputWidgets": {},
     "nuid": "2244a8f6-c4f7-4c5c-9c7c-f1cd0b83798b",
     "showTitle": false,
     "tableResultSettingsMap": {},
     "title": ""
    }
   },
   "source": [
    "##Modul 4: Datenformate"
   ]
  },
  {
   "cell_type": "markdown",
   "metadata": {
    "application/vnd.databricks.v1+cell": {
     "cellMetadata": {},
     "inputWidgets": {},
     "nuid": "f46fbcaf-dcea-4165-850a-6b4cd8d5171b",
     "showTitle": false,
     "tableResultSettingsMap": {},
     "title": ""
    }
   },
   "source": [
    "## 4.1. Setup und Dataset laden"
   ]
  },
  {
   "cell_type": "code",
   "execution_count": 0,
   "metadata": {
    "application/vnd.databricks.v1+cell": {
     "cellMetadata": {
      "byteLimit": 2048000,
      "rowLimit": 10000
     },
     "inputWidgets": {},
     "nuid": "2cdc5a45-cedb-46c6-a70e-ffd320c8e3b5",
     "showTitle": false,
     "tableResultSettingsMap": {},
     "title": ""
    }
   },
   "outputs": [],
   "source": [
    "import os\n",
    "\n",
    "# DBFS Pfad\n",
    "DATA_PATH = \"workspace.default.yellow_tripdata_2025_01\" # \"/FileStore/tables/yellow_tripdata_2025_01-1.parquet\"\n",
    "LOOKUP_PATH = \"workspace.default.df_lookup\"\n",
    "\n",
    "# DataFrame laden\n",
    "df_taxi = spark.read.table(DATA_PATH)\n",
    "df_lookup = spark.read.table(LOOKUP_PATH)\n",
    "\n",
    "path = \"/tmp/nyc_perf_modul3\"\n",
    "os.makedirs(f\"file:{path}\", exist_ok=True)"
   ]
  },
  {
   "cell_type": "code",
   "execution_count": 0,
   "metadata": {
    "application/vnd.databricks.v1+cell": {
     "cellMetadata": {
      "byteLimit": 2048000,
      "rowLimit": 10000
     },
     "inputWidgets": {},
     "nuid": "2b3a1be8-62e7-4304-9588-cff0fb77d608",
     "showTitle": false,
     "tableResultSettingsMap": {},
     "title": ""
    }
   },
   "outputs": [],
   "source": [
    "%fs ls /"
   ]
  },
  {
   "cell_type": "code",
   "execution_count": 0,
   "metadata": {
    "application/vnd.databricks.v1+cell": {
     "cellMetadata": {
      "byteLimit": 2048000,
      "rowLimit": 10000
     },
     "inputWidgets": {},
     "nuid": "e6d65931-564f-4f93-9dd5-d757b5bb58cb",
     "showTitle": false,
     "tableResultSettingsMap": {},
     "title": ""
    }
   },
   "outputs": [],
   "source": [
    "# --------------------------------------\n",
    "# 1. Abspeichern in verschiedene Formate\n",
    "# --------------------------------------\n",
    "\n",
    "# JSON: nur 10 Zeilen, jede Zeile = eigenes JSON\n",
    "#json_sample_df = df_taxi.limit(10)\n",
    "#json_sample_df.write.mode(\"overwrite\").json(f\"file:{path}\")\n",
    "\n",
    "# Zusätzlich zweiter Ordner\n",
    "#json_sample_df.write.mode(\"overwrite\").json(\"/output/json/taxi_sample_v2\")\n",
    "\n",
    "# Delta: gesamten DataFrame speichern\n",
    "df_taxi.write.format(\"delta\").mode(\"overwrite\").saveAsTable(\"workspace.output.taxi_full\")\n",
    "\n",
    "# Zweiter Ordner für Delta\n",
    "#df_taxi.write.format(\"delta\").mode(\"overwrite\").save(\"/output/delta/taxi_full_v2\")\n",
    "\n",
    "# --------------------------------------\n",
    "# 2. Wieder einlesen in DataFrames\n",
    "# --------------------------------------\n",
    "\n",
    "# JSON wieder einlesen\n",
    "#json_read_df = spark.read.json(\"/output/json/taxi_sample\")\n",
    "#json_read_df.show(5)\n",
    "\n",
    "# Delta wieder einlesen\n",
    "delta_read_df = spark.read.table(\"workspace.output.taxi_full\")\n",
    "delta_read_df.show(5)\n",
    "\n",
    "# --------------------------------------\n",
    "# Ergebnisseinspektion\n",
    "# --------------------------------------\n",
    "print(\"Schema JSON:\")\n",
    "#json_read_df.printSchema()\n",
    "\n",
    "print(\"Schema Delta:\")\n",
    "delta_read_df.printSchema()\n"
   ]
  }
 ],
 "metadata": {
  "application/vnd.databricks.v1+notebook": {
   "computePreferences": null,
   "dashboards": [],
   "environmentMetadata": {
    "base_environment": "",
    "environment_version": "2"
   },
   "inputWidgetPreferences": null,
   "language": "python",
   "notebookMetadata": {
    "mostRecentlyExecutedCommandWithImplicitDF": {
     "commandId": 7924014319515144,
     "dataframes": [
      "_sqldf"
     ]
    },
    "pythonIndentUnit": 4
   },
   "notebookName": "Modul 4 - Datenformate",
   "widgets": {}
  },
  "language_info": {
   "name": "python"
  }
 },
 "nbformat": 4,
 "nbformat_minor": 0
}

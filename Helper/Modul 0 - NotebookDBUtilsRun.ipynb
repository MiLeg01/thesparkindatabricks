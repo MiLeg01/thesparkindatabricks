{
 "cells": [
  {
   "cell_type": "code",
   "execution_count": 0,
   "metadata": {
    "application/vnd.databricks.v1+cell": {
     "cellMetadata": {},
     "inputWidgets": {},
     "nuid": "fda963aa-2227-4b20-9ab9-48f0eba17f1b",
     "showTitle": false,
     "tableResultSettingsMap": {},
     "title": ""
    }
   },
   "outputs": [],
   "source": [
    "# Eingabeparameter als Widget\n",
    "dbutils.widgets.text(\"min_salary\", \"5000\")\n",
    "min_salary = int(dbutils.widgets.get(\"min_salary\"))\n",
    "\n",
    "# DataFrame erstellen\n",
    "data = [\n",
    "    (1, \"Alice\", 5000),\n",
    "    (2, \"Bob\", 6000),\n",
    "    (3, \"Charlie\", 7000)\n",
    "]\n",
    "columns = [\"id\", \"name\", \"salary\"]\n",
    "df = spark.createDataFrame(data, columns)\n",
    "\n",
    "# Filter anwenden\n",
    "df_filtered = df.filter(df.salary >= min_salary)\n",
    "\n",
    "# Rückgabe an aufrufendes Notebook (nur Strings möglich)\n",
    "dbutils.notebook.exit(str(df_filtered.collect()))\n"
   ]
  }
 ],
 "metadata": {
  "application/vnd.databricks.v1+notebook": {
   "computePreferences": null,
   "dashboards": [],
   "environmentMetadata": {
    "base_environment": "",
    "environment_version": "3"
   },
   "inputWidgetPreferences": null,
   "language": "python",
   "notebookMetadata": {
    "pythonIndentUnit": 4
   },
   "notebookName": "Modul 0 - NotebookDBUtilsRun",
   "widgets": {}
  },
  "language_info": {
   "name": "python"
  }
 },
 "nbformat": 4,
 "nbformat_minor": 0
}

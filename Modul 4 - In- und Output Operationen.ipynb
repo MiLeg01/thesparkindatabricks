{
 "cells": [
  {
   "cell_type": "markdown",
   "metadata": {
    "application/vnd.databricks.v1+cell": {
     "cellMetadata": {},
     "inputWidgets": {},
     "nuid": "2244a8f6-c4f7-4c5c-9c7c-f1cd0b83798b",
     "showTitle": false,
     "tableResultSettingsMap": {},
     "title": ""
    }
   },
   "source": [
    "#Modul 4: In- und Output Operationen"
   ]
  },
  {
   "cell_type": "markdown",
   "metadata": {
    "application/vnd.databricks.v1+cell": {
     "cellMetadata": {},
     "inputWidgets": {},
     "nuid": "f46fbcaf-dcea-4165-850a-6b4cd8d5171b",
     "showTitle": false,
     "tableResultSettingsMap": {},
     "title": ""
    }
   },
   "source": [
    "## 4.1. Setup und Dataset laden"
   ]
  },
  {
   "cell_type": "code",
   "execution_count": 0,
   "metadata": {
    "application/vnd.databricks.v1+cell": {
     "cellMetadata": {
      "byteLimit": 2048000,
      "rowLimit": 10000
     },
     "inputWidgets": {},
     "nuid": "015c272c-aaba-4e90-8167-b60bcaa8fbb2",
     "showTitle": false,
     "tableResultSettingsMap": {},
     "title": ""
    }
   },
   "outputs": [],
   "source": [
    "%run \"./Helper/_config\""
   ]
  },
  {
   "cell_type": "code",
   "execution_count": 0,
   "metadata": {
    "application/vnd.databricks.v1+cell": {
     "cellMetadata": {
      "byteLimit": 2048000,
      "rowLimit": 10000
     },
     "inputWidgets": {},
     "nuid": "2cdc5a45-cedb-46c6-a70e-ffd320c8e3b5",
     "showTitle": false,
     "tableResultSettingsMap": {},
     "title": ""
    }
   },
   "outputs": [],
   "source": [
    "# DBFS Pfad\n",
    "DATA_PATH = f\"{CATALOG}.{SCHEMA}.yellow_tripdata_2025_01\"\n",
    "LOOKUP_PATH =  f\"{CATALOG}.{SCHEMA}.taxi_zone_lookup\"\n",
    "\n",
    "# DataFrame laden\n",
    "df_taxi = spark.read.table(DATA_PATH)\n",
    "df_lookup = spark.read.table(LOOKUP_PATH)\n",
    "\n",
    "spark.sql(f\"DROP VOLUME {CATALOG}.{SCHEMA}.taxi_volume;\")\n",
    "spark.sql(f\"CREATE VOLUME IF NOT EXISTS {CATALOG}.{SCHEMA}.taxi_volume;\")\n",
    "\n",
    "VOLUME_PATH = f\"/Volumes/{CATALOG}/{SCHEMA}/taxi_volume/\""
   ]
  },
  {
   "cell_type": "markdown",
   "metadata": {
    "application/vnd.databricks.v1+cell": {
     "cellMetadata": {},
     "inputWidgets": {},
     "nuid": "f03fa232-8ba9-439e-9447-364cb4898b20",
     "showTitle": false,
     "tableResultSettingsMap": {},
     "title": ""
    }
   },
   "source": [
    "## 4.2. Speicherung im Parquet-Format"
   ]
  },
  {
   "cell_type": "markdown",
   "metadata": {
    "application/vnd.databricks.v1+cell": {
     "cellMetadata": {},
     "inputWidgets": {},
     "nuid": "52330736-8a58-42d8-8ff2-e86bf24896a9",
     "showTitle": false,
     "tableResultSettingsMap": {},
     "title": ""
    }
   },
   "source": [
    "### 4.2.1. Speichern"
   ]
  },
  {
   "cell_type": "code",
   "execution_count": 0,
   "metadata": {
    "application/vnd.databricks.v1+cell": {
     "cellMetadata": {
      "byteLimit": 2048000,
      "rowLimit": 10000
     },
     "inputWidgets": {},
     "nuid": "e6d65931-564f-4f93-9dd5-d757b5bb58cb",
     "showTitle": false,
     "tableResultSettingsMap": {},
     "title": ""
    }
   },
   "outputs": [],
   "source": [
    "# Taxi-Daten als Parquet im Managed Volume speichern\n",
    "df_taxi.write.mode(\"overwrite\").parquet(f\"{VOLUME_PATH}/taxi_parquet\")\n",
    "\n",
    "# Lookup-Daten als Parquet speichern\n",
    "df_lookup.write.mode(\"overwrite\").parquet(f\"{VOLUME_PATH}/lookup_parquet\")\n"
   ]
  },
  {
   "cell_type": "markdown",
   "metadata": {
    "application/vnd.databricks.v1+cell": {
     "cellMetadata": {},
     "inputWidgets": {},
     "nuid": "578a71cd-6890-4b57-9688-b73b1299db60",
     "showTitle": false,
     "tableResultSettingsMap": {},
     "title": ""
    }
   },
   "source": [
    "### 4.2.2. Auslesen"
   ]
  },
  {
   "cell_type": "code",
   "execution_count": 0,
   "metadata": {
    "application/vnd.databricks.v1+cell": {
     "cellMetadata": {},
     "inputWidgets": {},
     "nuid": "c98e59de-560b-483f-82dc-ac393177cdfb",
     "showTitle": false,
     "tableResultSettingsMap": {},
     "title": ""
    }
   },
   "outputs": [],
   "source": [
    "df_taxi_parquet = spark.read.parquet(f\"{VOLUME_PATH}/taxi_parquet\")\n",
    "df_lookup_parquet = spark.read.parquet(f\"{VOLUME_PATH}/lookup_parquet\")\n",
    "\n",
    "df_taxi_parquet.show(5)\n",
    "df_lookup_parquet.show(5)\n"
   ]
  },
  {
   "cell_type": "markdown",
   "metadata": {
    "application/vnd.databricks.v1+cell": {
     "cellMetadata": {},
     "inputWidgets": {},
     "nuid": "bae813aa-7175-49da-a5c2-1fd38b3c684f",
     "showTitle": false,
     "tableResultSettingsMap": {},
     "title": ""
    }
   },
   "source": [
    "##4.3. Speicherung im CSV Format"
   ]
  },
  {
   "cell_type": "markdown",
   "metadata": {
    "application/vnd.databricks.v1+cell": {
     "cellMetadata": {},
     "inputWidgets": {},
     "nuid": "6a400222-0977-420c-9a79-1c9ed52f2d42",
     "showTitle": false,
     "tableResultSettingsMap": {},
     "title": ""
    }
   },
   "source": [
    "### 4.3.1. Speichern"
   ]
  },
  {
   "cell_type": "code",
   "execution_count": 0,
   "metadata": {
    "application/vnd.databricks.v1+cell": {
     "cellMetadata": {},
     "inputWidgets": {},
     "nuid": "dfb3a51e-7f95-47d9-ba0f-ce46bf8980d5",
     "showTitle": false,
     "tableResultSettingsMap": {},
     "title": ""
    }
   },
   "outputs": [],
   "source": [
    "# Taxi-Daten als CSV speichern\n",
    "df_taxi.write.mode(\"overwrite\").option(\"header\", True).csv(f\"{VOLUME_PATH}/taxi_csv\")\n",
    "\n",
    "# Lookup-Daten als CSV speichern\n",
    "df_lookup.write.mode(\"overwrite\").option(\"header\", True).csv(f\"{VOLUME_PATH}/lookup_csv\")\n"
   ]
  },
  {
   "cell_type": "markdown",
   "metadata": {
    "application/vnd.databricks.v1+cell": {
     "cellMetadata": {},
     "inputWidgets": {},
     "nuid": "51730cd9-5885-425a-85a9-bbeadabaf116",
     "showTitle": false,
     "tableResultSettingsMap": {},
     "title": ""
    }
   },
   "source": [
    "### 4.3.2. Auslesen"
   ]
  },
  {
   "cell_type": "code",
   "execution_count": 0,
   "metadata": {
    "application/vnd.databricks.v1+cell": {
     "cellMetadata": {},
     "inputWidgets": {},
     "nuid": "f41cf4e0-c6cf-4eca-868d-42f2e4a1495c",
     "showTitle": false,
     "tableResultSettingsMap": {},
     "title": ""
    }
   },
   "outputs": [],
   "source": [
    "df_taxi_csv = spark.read.option(\"header\", True).csv(f\"{VOLUME_PATH}/taxi_csv\")\n",
    "df_lookup_csv = spark.read.option(\"header\", True).csv(f\"{VOLUME_PATH}/lookup_csv\")\n",
    "\n",
    "df_taxi_csv.show(5)\n",
    "df_lookup_csv.show(5)\n"
   ]
  },
  {
   "cell_type": "markdown",
   "metadata": {
    "application/vnd.databricks.v1+cell": {
     "cellMetadata": {},
     "inputWidgets": {},
     "nuid": "fb10771c-61d1-463f-902d-cc7d3246f0ac",
     "showTitle": false,
     "tableResultSettingsMap": {},
     "title": ""
    }
   },
   "source": [
    "##4.4. Speichern im Delta Format"
   ]
  },
  {
   "cell_type": "markdown",
   "metadata": {
    "application/vnd.databricks.v1+cell": {
     "cellMetadata": {},
     "inputWidgets": {},
     "nuid": "139e5c73-9ca4-424d-87be-948e89d81818",
     "showTitle": false,
     "tableResultSettingsMap": {},
     "title": ""
    }
   },
   "source": [
    "###4.4.1. Speichern"
   ]
  },
  {
   "cell_type": "code",
   "execution_count": 0,
   "metadata": {
    "application/vnd.databricks.v1+cell": {
     "cellMetadata": {},
     "inputWidgets": {},
     "nuid": "949a74c4-cb80-4856-b100-f3a411c938e7",
     "showTitle": false,
     "tableResultSettingsMap": {},
     "title": ""
    }
   },
   "outputs": [],
   "source": [
    "# Taxi-Daten als Delta speichern\n",
    "df_taxi.write.format(\"delta\").mode(\"overwrite\").save(f\"{VOLUME_PATH}/taxi_delta\")\n",
    "\n",
    "# Lookup-Daten als Delta speichern\n",
    "df_lookup.write.format(\"delta\").mode(\"overwrite\").save(f\"{VOLUME_PATH}/lookup_delta\")\n"
   ]
  },
  {
   "cell_type": "markdown",
   "metadata": {
    "application/vnd.databricks.v1+cell": {
     "cellMetadata": {},
     "inputWidgets": {},
     "nuid": "578a21cb-6ee2-4075-bf13-d086a6de8576",
     "showTitle": false,
     "tableResultSettingsMap": {},
     "title": ""
    }
   },
   "source": [
    "###4.4.2. Auslesen"
   ]
  },
  {
   "cell_type": "code",
   "execution_count": 0,
   "metadata": {
    "application/vnd.databricks.v1+cell": {
     "cellMetadata": {},
     "inputWidgets": {},
     "nuid": "200e2983-a50e-43db-ab6f-47486fe193ba",
     "showTitle": false,
     "tableResultSettingsMap": {},
     "title": ""
    }
   },
   "outputs": [],
   "source": [
    "df_taxi_delta = spark.read.format(\"delta\").load(f\"{VOLUME_PATH}/taxi_delta\")\n",
    "df_lookup_delta = spark.read.format(\"delta\").load(f\"{VOLUME_PATH}/lookup_delta\")\n",
    "\n",
    "df_taxi_delta.show(5)\n",
    "df_lookup_delta.show(5)\n"
   ]
  },
  {
   "cell_type": "markdown",
   "metadata": {
    "application/vnd.databricks.v1+cell": {
     "cellMetadata": {},
     "inputWidgets": {},
     "nuid": "2bdd5aa6-7dae-4a03-bf8b-e7fa64b2e91f",
     "showTitle": false,
     "tableResultSettingsMap": {},
     "title": ""
    }
   },
   "source": [
    "##4.5. Speichern im JSON Format"
   ]
  },
  {
   "cell_type": "markdown",
   "metadata": {
    "application/vnd.databricks.v1+cell": {
     "cellMetadata": {},
     "inputWidgets": {},
     "nuid": "1fae1ab7-fff3-4aa0-bc83-1d07237cd1d6",
     "showTitle": false,
     "tableResultSettingsMap": {},
     "title": ""
    }
   },
   "source": [
    "### 4.5.1 Speichern"
   ]
  },
  {
   "cell_type": "code",
   "execution_count": 0,
   "metadata": {
    "application/vnd.databricks.v1+cell": {
     "cellMetadata": {
      "byteLimit": 2048000,
      "rowLimit": 10000
     },
     "inputWidgets": {},
     "nuid": "ab5a5e70-8664-47e8-bd3b-00d4a8276a8f",
     "showTitle": false,
     "tableResultSettingsMap": {},
     "title": ""
    }
   },
   "outputs": [],
   "source": [
    "# Taxi-Daten als JSON speichern\n",
    "df_taxi.write.mode(\"overwrite\").json(f\"{VOLUME_PATH}/taxi_json\")\n",
    "\n",
    "# Lookup-Daten als JSON speichern\n",
    "df_lookup.write.mode(\"overwrite\").json(f\"{VOLUME_PATH}/lookup_json\")\n"
   ]
  },
  {
   "cell_type": "markdown",
   "metadata": {
    "application/vnd.databricks.v1+cell": {
     "cellMetadata": {},
     "inputWidgets": {},
     "nuid": "9cb49d2a-c0be-4402-9ee6-5cd2b2527041",
     "showTitle": false,
     "tableResultSettingsMap": {},
     "title": ""
    }
   },
   "source": [
    "###4.5.2. Einlesen"
   ]
  },
  {
   "cell_type": "code",
   "execution_count": 0,
   "metadata": {
    "application/vnd.databricks.v1+cell": {
     "cellMetadata": {},
     "inputWidgets": {},
     "nuid": "97bbce70-6e27-47ee-b8ae-8e0415b68c9f",
     "showTitle": false,
     "tableResultSettingsMap": {},
     "title": ""
    }
   },
   "outputs": [],
   "source": [
    "df_taxi_json = spark.read.json(f\"{VOLUME_PATH}/taxi_json\")\n",
    "df_lookup_json = spark.read.json(f\"{VOLUME_PATH}/lookup_json\")\n",
    "\n",
    "df_taxi_json.show(5)\n",
    "df_lookup_json.show(5)\n"
   ]
  }
 ],
 "metadata": {
  "application/vnd.databricks.v1+notebook": {
   "computePreferences": {
    "hardware": {
     "accelerator": null,
     "gpuPoolId": null,
     "memory": null
    }
   },
   "dashboards": [],
   "environmentMetadata": {
    "base_environment": "",
    "environment_version": "2"
   },
   "inputWidgetPreferences": null,
   "language": "python",
   "notebookMetadata": {
    "mostRecentlyExecutedCommandWithImplicitDF": {
     "commandId": 7924014319515144,
     "dataframes": [
      "_sqldf"
     ]
    },
    "pythonIndentUnit": 4
   },
   "notebookName": "Modul 4 - In- und Output Operationen",
   "widgets": {}
  },
  "language_info": {
   "name": "python"
  }
 },
 "nbformat": 4,
 "nbformat_minor": 0
}

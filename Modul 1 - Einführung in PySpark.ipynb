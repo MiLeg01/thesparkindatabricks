{
 "cells": [
  {
   "cell_type": "markdown",
   "metadata": {
    "application/vnd.databricks.v1+cell": {
     "cellMetadata": {},
     "inputWidgets": {},
     "nuid": "586516be-bef2-4de5-b8f3-929eed067caf",
     "showTitle": false,
     "tableResultSettingsMap": {},
     "title": ""
    }
   },
   "source": [
    "# Modul1: Einführung in PySpark"
   ]
  },
  {
   "cell_type": "markdown",
   "metadata": {
    "application/vnd.databricks.v1+cell": {
     "cellMetadata": {},
     "inputWidgets": {},
     "nuid": "5efbdb2c-b7e7-4f08-8bdc-1a05c6d6e8f0",
     "showTitle": false,
     "tableResultSettingsMap": {},
     "title": ""
    }
   },
   "source": [
    "## 1.1. Einführung in Apache Spark\n",
    "Apache Spark ist ein Framework für **verteilte Datenverarbeitung**, das auf großen Clustern effizient arbeitet.\n",
    "\n",
    "Kernmerkmale:\n",
    "\n",
    "- **In-Memory-Verarbeitung:** Spark kann Daten im RAM halten, was die Verarbeitung im Vergleich zu diskbasierten Systemen stark beschleunigt.\n",
    "- **Skalierbarkeit:** Spark läuft auf einem einzelnen Rechner, aber auch auf Hunderten von Nodes in einem Cluster.\n",
    "- **Vielseitigkeit:** Spark unterstützt Batch-Processing, Streaming, SQL-Abfragen, Machine Learning (MLlib) und Graphverarbeitung (GraphX).\n"
   ]
  }
 ],
 "metadata": {
  "application/vnd.databricks.v1+notebook": {
   "computePreferences": null,
   "dashboards": [],
   "environmentMetadata": {
    "base_environment": "",
    "environment_version": "3"
   },
   "inputWidgetPreferences": null,
   "language": "python",
   "notebookMetadata": {
    "pythonIndentUnit": 4
   },
   "notebookName": "Modul 1 - Einführung in PySpark",
   "widgets": {}
  },
  "language_info": {
   "name": "python"
  }
 },
 "nbformat": 4,
 "nbformat_minor": 0
}
